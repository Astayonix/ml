{
 "cells": [
  {
   "cell_type": "code",
   "execution_count": 1,
   "metadata": {
    "collapsed": false
   },
   "outputs": [],
   "source": [
    "#importing the libraries\n",
    "import pandas as pd\n",
    "import matplotlib.pyplot as plt\n",
    "import numpy as np\n",
    "from __future__ import unicode_literals\n",
    "from IPython.core.display import HTML\n",
    "from string import Template\n",
    "import json"
   ]
  },
  {
   "cell_type": "code",
   "execution_count": 2,
   "metadata": {
    "collapsed": false
   },
   "outputs": [],
   "source": [
    "#reading in the Excel file\n",
    "gdp_data = pd.read_excel('datasets/gdp_Download-GDPcurrent-USD-countries.xls', skiprows=2)"
   ]
  },
  {
   "cell_type": "code",
   "execution_count": 3,
   "metadata": {
    "collapsed": false
   },
   "outputs": [],
   "source": [
    "#creating a time-series\n",
    "time_series = []\n",
    "for column in gdp_data.columns:\n",
    "    if type(column) == int:\n",
    "        time_series.append(column)"
   ]
  },
  {
   "cell_type": "code",
   "execution_count": 4,
   "metadata": {
    "collapsed": false
   },
   "outputs": [],
   "source": [
    "#creating the country set\n",
    "country_set = set(gdp_data.Country)"
   ]
  },
  {
   "cell_type": "code",
   "execution_count": 5,
   "metadata": {
    "collapsed": true
   },
   "outputs": [],
   "source": [
    "#creating the shortened versions of the indicators\n",
    "meanings = {'Exports of goods and services':'Ex', 'General government final consumption expenditure':'G', 'Gross Domestic Product (GDP)':'GDP', 'Imports of goods and services':'Im', 'Household consumption expenditure (including Non-profit institutions serving households)':'C', 'Gross capital formation':'I'}"
   ]
  },
  {
   "cell_type": "code",
   "execution_count": 6,
   "metadata": {
    "collapsed": true
   },
   "outputs": [],
   "source": [
    "'''converts the long-form of the column name to the shortened version as per the meanings dict'''\n",
    "def convertname(x):\n",
    "    if x in meanings.keys():\n",
    "        return meanings[x]\n",
    "    else:\n",
    "        return x"
   ]
  },
  {
   "cell_type": "code",
   "execution_count": 7,
   "metadata": {
    "collapsed": false,
    "scrolled": true
   },
   "outputs": [],
   "source": [
    "#an annonymous function that converts names in the IndicatorName columun into its shortened version per the meanings dict\n",
    "converted_name = gdp_data.IndicatorName.map(lambda x: convertname(x))"
   ]
  },
  {
   "cell_type": "code",
   "execution_count": 8,
   "metadata": {
    "collapsed": false
   },
   "outputs": [],
   "source": [
    "#creates a new column to the end of the dataframe that is a concatenation of the country name and the shortened indicator name\n",
    "gdp_data['Concat'] = gdp_data['Country']+ \" \" + converted_name"
   ]
  },
  {
   "cell_type": "code",
   "execution_count": 9,
   "metadata": {
    "collapsed": false
   },
   "outputs": [],
   "source": [
    "#sets the index column of the dataframe to the Concat column for ease of filtering\n",
    "gdp_data.set_index('Concat', inplace=True)"
   ]
  },
  {
   "cell_type": "code",
   "execution_count": 10,
   "metadata": {
    "collapsed": true
   },
   "outputs": [],
   "source": [
    "#fills in all NaN values with 0's\n",
    "gdp_data.fillna(0, inplace=True)"
   ]
  },
  {
   "cell_type": "code",
   "execution_count": 11,
   "metadata": {
    "collapsed": false
   },
   "outputs": [],
   "source": [
    "#converts all float data-types to integers\n",
    "# for column in gdp_data.columns:\n",
    "#     if gdp_data[column].dtype == float:\n",
    "#         gdp_data[column] = gdp_data[column].astype(int)"
   ]
  },
  {
   "cell_type": "code",
   "execution_count": 12,
   "metadata": {
    "collapsed": true
   },
   "outputs": [],
   "source": [
    "#removes the index name as a header\n",
    "gdp_data.index.name = None"
   ]
  },
  {
   "cell_type": "code",
   "execution_count": 13,
   "metadata": {
    "collapsed": false
   },
   "outputs": [],
   "source": [
    "#drops all rows that do not do not have abbreviated indicator names from the dataframe\n",
    "abbv_list = ['C','I','G','Ex','Im', 'GDP']\n",
    "for indicator in gdp_data.index:\n",
    "    split_indicator = indicator.split()\n",
    "    if split_indicator[-1].strip() not in abbv_list:\n",
    "        gdp_data.drop(indicator, inplace = True)"
   ]
  },
  {
   "cell_type": "code",
   "execution_count": 14,
   "metadata": {
    "collapsed": false
   },
   "outputs": [],
   "source": [
    "#removing the Country and IndicatorName columns\n",
    "remove_cols = ['IndicatorName', 'Country']\n",
    "gdp_data.drop(remove_cols, axis=1, inplace=True)"
   ]
  },
  {
   "cell_type": "code",
   "execution_count": 15,
   "metadata": {
    "collapsed": false
   },
   "outputs": [
    {
     "name": "stdout",
     "output_type": "stream",
     "text": [
      "set([u'Canada', u'Sao Tome and Principe', u'Turkmenistan', u'Yugoslavia (Former)', u'Lithuania', u'Cambodia', u'Switzerland', u'Ethiopia', u'Aruba', u'Swaziland', u'Argentina', u'Cameroon', u'Burkina Faso', u'Ghana', u'Saudi Arabia', u'Japan', u'State of Palestine', u'Slovenia', u'Guatemala', u'Bosnia and Herzegovina', u'Kuwait', u'Russian Federation', u'Jordan', u'Dominica', u'Liberia', u'Maldives', u'Jamaica', u'Oman', u'Cabo Verde', u'Albania', u'Gabon', u'Monaco', u'Samoa', u'New Zealand', u'Yemen', u'Andorra', u'Greenland', u\"Lao People's DR\", u'United Arab Emirates', u'Czechoslovakia (Former)', u'India', u'Azerbaijan', u'Lesotho', u'Kenya', u'Tajikistan', u'Turkey', u'Afghanistan', u'Micronesia (FS of)', u'Bangladesh', u'Mauritania', u'Iran (Islamic Republic of)', u'Sudan (Former)', u'Saint Lucia', u'San Marino', u'French Polynesia', u'France', u'Syrian Arab Republic', u'Bermuda', u'Slovakia', u'Somalia', u'Peru', u'Vanuatu', u'Nauru', u'Seychelles', u'Norway', u'Malawi', u'Cook Islands', u'Benin', u'Cuba', u'Montenegro', u'Saint Kitts and Nevis', u'Togo', u'China', u'Armenia', u'Republic of Korea', u'Dominican Republic', u'Bolivia (Plurinational State of)', u'Ukraine', u'Bahrain', u'Tonga', u'Finland', u'Libya', u'Yemen Arab Republic (Former)', u'Cayman Islands', u'Central African Republic', u'Mauritius', u'Liechtenstein', u'Australia', u'British Virgin Islands', u'Mali', u'Sweden', u'D.P.R. of Korea', u'Bulgaria', u'Yemen Democratic (Former)', u'United States', u'Romania', u'Angola', u'Chad', u'South Africa', u'St. Vincent and the Grenadines', u'Cyprus', u'Brunei Darussalam', u'Qatar', u'Malaysia', u'Austria', u'Mozambique', u'Uganda', u'Hungary', u'Niger', u'Brazil', u'Guinea', u'Panama', u'Republic of Moldova', u'Costa Rica', u'Luxembourg', u'Bahamas', u'Ireland', u'Pakistan', u'Palau', u'Nigeria', u'Ecuador', u'Czech Republic', u'Viet Nam', u'Belarus', u'Algeria', u'El Salvador', u'Tuvalu', u'Solomon Islands', u'Marshall Islands', u'Chile', u'Puerto Rico', u'Belgium', u'Kiribati', u'Former Netherlands Antilles', u'Belize', u'Sierra Leone', u'Georgia', u'China, Hong Kong SAR', u'Gambia', u'Philippines', u'D.R. of the Congo', u'China, Macao SAR', u'Morocco', u'Uruguay', u'Croatia', u'Mongolia', u'Guinea-Bissau', u'Thailand', u'Namibia', u'Grenada', u'Haiti', u'TFYR of Macedonia', u'Venezuela (Bolivarian Republic of)', u'Iraq', u'Portugal', u'Estonia', u'Kosovo', u'USSR (Former)', u'Mexico', u'Lebanon', u'Uzbekistan', u'Tunisia', u'Djibouti', u'Rwanda', u'Antigua and Barbuda', u'Spain', u'Colombia', u'Burundi', u'Fiji', u'Barbados', u'Madagascar', u'Italy', u'Bhutan', u'Sudan', u'Nepal', u'Malta', u'Netherlands', u'Suriname', u'Ethiopia (Former)', u'Anguilla', u'Turks and Caicos Islands', u'U.R. of Tanzania: Mainland', u'United Kingdom', u'Israel', u'Indonesia', u'Iceland', u'Zambia', u'Senegal', u'Papua New Guinea', u'Trinidad and Tobago', u'Zimbabwe', u'Germany', u'Denmark', u'Kazakhstan', u'Poland', u'Eritrea', u'Kyrgyzstan', u'Montserrat', u'New Caledonia', u'Sri Lanka', u'Latvia', u'South Sudan', u'Guyana', u\"C\\xf4te d'Ivoire\", u'Honduras', u'Myanmar', u'Equatorial Guinea', u'Egypt', u'Nicaragua', u'Singapore', u'Serbia', u'Botswana', u'Timor-Leste', u'Congo', u'Sint Maarten (Dutch part)', u'Greece', u'Paraguay', u'Cura\\xe7ao', u'Comoros', u'Zanzibar'])\n",
      "\n",
      "\n",
      "Please type in the name of the country or countries you want to investigate (separate with \", \"): United States, Canada, Italy, Romania, Armenia\n",
      "[u'United States', u'Canada', u'Italy', u'Romania', u'Armenia']\n",
      "\n",
      "\n",
      "For Consumer/Personal consumption, type C\n",
      "For Investment/Business consumption, type I\n",
      "For Government consumption, type G\n",
      "For Total Exports, type Ex\n",
      "For Total Imports, type Im\n",
      "For Aggregate consumption, type GDP\n",
      "\n",
      "Please type in the abbrieviate name of the GDP Indicator.(separate with \", \"): Ex, GDP\n",
      "[u'Ex', u'GDP']\n",
      "\n",
      "\n"
     ]
    }
   ],
   "source": [
    "#declaring chart variables\n",
    "\n",
    "#reminder of which countries are available\n",
    "print country_set\n",
    "print '\\n'\n",
    "\n",
    "#user selects countries to investigate\n",
    "user_country_select = raw_input('Please type in the name of the country or countries you want to investigate (separate with \", \"): ')\n",
    "user_country_list = list(user_country_select.split(', '))\n",
    "print user_country_list \n",
    "print '\\n'\n",
    "\n",
    "print 'For Consumer/Personal consumption, type C' + '\\n',\\\n",
    "'For Investment/Business consumption, type I' + '\\n',\\\n",
    "'For Government consumption, type G' + '\\n',\\\n",
    "'For Total Exports, type Ex' + '\\n',\\\n",
    "'For Total Imports, type Im' + '\\n',\\\n",
    "'For Aggregate consumption, type GDP'+ '\\n'\n",
    "\n",
    "user_indicator_select = raw_input('Please type in the abbrieviate name of the GDP Indicator.(separate with \", \"): ')\n",
    "user_indicator_list = list(user_indicator_select.split(', '))\n",
    "print user_indicator_list\n",
    "print '\\n'"
   ]
  },
  {
   "cell_type": "code",
   "execution_count": 16,
   "metadata": {
    "collapsed": false
   },
   "outputs": [
    {
     "name": "stdout",
     "output_type": "stream",
     "text": [
      "[[u'United States Ex', u'Canada Ex', u'Italy Ex', u'Romania Ex', u'Armenia Ex'], [u'United States GDP', u'Canada GDP', u'Italy GDP', u'Romania GDP', u'Armenia GDP']]\n"
     ]
    }
   ],
   "source": [
    "#grouping the indicators and countries\n",
    "gdp_request_grouping = []\n",
    "\n",
    "for indicator in user_indicator_list:\n",
    "    inner_grouping = []\n",
    "    for country in user_country_list:\n",
    "        indicator_country = country +\" \"+ indicator\n",
    "        if indicator == 'C':\n",
    "            inner_grouping.append(indicator_country)\n",
    "        elif indicator == 'I':\n",
    "            inner_grouping.append(indicator_country)\n",
    "        elif indicator == 'G':\n",
    "            inner_grouping.append(indicator_country)\n",
    "        elif indicator == 'Ex':\n",
    "            inner_grouping.append(indicator_country)\n",
    "        elif indicator == 'Im':\n",
    "            inner_grouping.append(indicator_country)\n",
    "        elif indicator == 'GDP':\n",
    "            inner_grouping.append(indicator_country)\n",
    "        else:\n",
    "            print 'oops'\n",
    "    gdp_request_grouping.append(inner_grouping)\n",
    "\n",
    "print gdp_request_grouping"
   ]
  },
  {
   "cell_type": "code",
   "execution_count": 17,
   "metadata": {
    "collapsed": false
   },
   "outputs": [
    {
     "data": {
      "text/html": [
       "<div>\n",
       "<table border=\"1\" class=\"dataframe\">\n",
       "  <thead>\n",
       "    <tr style=\"text-align: right;\">\n",
       "      <th></th>\n",
       "      <th>1970</th>\n",
       "      <th>1971</th>\n",
       "      <th>1972</th>\n",
       "      <th>1973</th>\n",
       "      <th>1974</th>\n",
       "      <th>1975</th>\n",
       "      <th>1976</th>\n",
       "      <th>1977</th>\n",
       "      <th>1978</th>\n",
       "      <th>1979</th>\n",
       "      <th>...</th>\n",
       "      <th>2005</th>\n",
       "      <th>2006</th>\n",
       "      <th>2007</th>\n",
       "      <th>2008</th>\n",
       "      <th>2009</th>\n",
       "      <th>2010</th>\n",
       "      <th>2011</th>\n",
       "      <th>2012</th>\n",
       "      <th>2013</th>\n",
       "      <th>2014</th>\n",
       "    </tr>\n",
       "  </thead>\n",
       "  <tbody>\n",
       "    <tr>\n",
       "      <th>United States Ex</th>\n",
       "      <td>5.970000e+10</td>\n",
       "      <td>6.300000e+10</td>\n",
       "      <td>7.080000e+10</td>\n",
       "      <td>9.530000e+10</td>\n",
       "      <td>1.267000e+11</td>\n",
       "      <td>1.387000e+11</td>\n",
       "      <td>1.495000e+11</td>\n",
       "      <td>1.593000e+11</td>\n",
       "      <td>1.869000e+11</td>\n",
       "      <td>2.301000e+11</td>\n",
       "      <td>...</td>\n",
       "      <td>1.308900e+12</td>\n",
       "      <td>1.476320e+12</td>\n",
       "      <td>1.664620e+12</td>\n",
       "      <td>1.841940e+12</td>\n",
       "      <td>1.587740e+12</td>\n",
       "      <td>1.852330e+12</td>\n",
       "      <td>2.106370e+12</td>\n",
       "      <td>2.198182e+12</td>\n",
       "      <td>2.263254e+12</td>\n",
       "      <td>2.341933e+12</td>\n",
       "    </tr>\n",
       "    <tr>\n",
       "      <th>Canada Ex</th>\n",
       "      <td>1.926851e+10</td>\n",
       "      <td>2.091564e+10</td>\n",
       "      <td>2.407413e+10</td>\n",
       "      <td>2.990430e+10</td>\n",
       "      <td>3.862719e+10</td>\n",
       "      <td>3.831190e+10</td>\n",
       "      <td>4.494299e+10</td>\n",
       "      <td>4.819629e+10</td>\n",
       "      <td>5.379827e+10</td>\n",
       "      <td>6.418693e+10</td>\n",
       "      <td>...</td>\n",
       "      <td>4.302796e+11</td>\n",
       "      <td>4.647426e+11</td>\n",
       "      <td>5.003383e+11</td>\n",
       "      <td>5.316942e+11</td>\n",
       "      <td>3.898948e+11</td>\n",
       "      <td>4.690637e+11</td>\n",
       "      <td>5.466925e+11</td>\n",
       "      <td>5.535793e+11</td>\n",
       "      <td>5.552631e+11</td>\n",
       "      <td>5.644229e+11</td>\n",
       "    </tr>\n",
       "    <tr>\n",
       "      <th>Italy Ex</th>\n",
       "      <td>1.719227e+10</td>\n",
       "      <td>1.942104e+10</td>\n",
       "      <td>2.369204e+10</td>\n",
       "      <td>2.825918e+10</td>\n",
       "      <td>3.696322e+10</td>\n",
       "      <td>4.264851e+10</td>\n",
       "      <td>4.503907e+10</td>\n",
       "      <td>5.506099e+10</td>\n",
       "      <td>6.828815e+10</td>\n",
       "      <td>8.810804e+10</td>\n",
       "      <td>...</td>\n",
       "      <td>4.567006e+11</td>\n",
       "      <td>5.094873e+11</td>\n",
       "      <td>6.042048e+11</td>\n",
       "      <td>6.446730e+11</td>\n",
       "      <td>4.911200e+11</td>\n",
       "      <td>5.352641e+11</td>\n",
       "      <td>6.147434e+11</td>\n",
       "      <td>5.925448e+11</td>\n",
       "      <td>6.161083e+11</td>\n",
       "      <td>6.331233e+11</td>\n",
       "    </tr>\n",
       "    <tr>\n",
       "      <th>Romania Ex</th>\n",
       "      <td>3.286258e+08</td>\n",
       "      <td>3.609320e+08</td>\n",
       "      <td>4.586351e+08</td>\n",
       "      <td>2.517398e+09</td>\n",
       "      <td>3.393985e+09</td>\n",
       "      <td>3.648643e+09</td>\n",
       "      <td>3.737667e+09</td>\n",
       "      <td>4.103098e+09</td>\n",
       "      <td>5.091164e+09</td>\n",
       "      <td>6.352882e+09</td>\n",
       "      <td>...</td>\n",
       "      <td>3.280953e+10</td>\n",
       "      <td>3.960518e+10</td>\n",
       "      <td>4.999549e+10</td>\n",
       "      <td>5.607386e+10</td>\n",
       "      <td>4.582640e+10</td>\n",
       "      <td>5.426640e+10</td>\n",
       "      <td>6.829798e+10</td>\n",
       "      <td>6.431258e+10</td>\n",
       "      <td>7.613694e+10</td>\n",
       "      <td>8.186610e+10</td>\n",
       "    </tr>\n",
       "    <tr>\n",
       "      <th>Armenia Ex</th>\n",
       "      <td>0.000000e+00</td>\n",
       "      <td>0.000000e+00</td>\n",
       "      <td>0.000000e+00</td>\n",
       "      <td>0.000000e+00</td>\n",
       "      <td>0.000000e+00</td>\n",
       "      <td>0.000000e+00</td>\n",
       "      <td>0.000000e+00</td>\n",
       "      <td>0.000000e+00</td>\n",
       "      <td>0.000000e+00</td>\n",
       "      <td>0.000000e+00</td>\n",
       "      <td>...</td>\n",
       "      <td>1.411788e+09</td>\n",
       "      <td>1.491343e+09</td>\n",
       "      <td>1.766287e+09</td>\n",
       "      <td>1.754800e+09</td>\n",
       "      <td>1.338223e+09</td>\n",
       "      <td>1.928926e+09</td>\n",
       "      <td>2.409447e+09</td>\n",
       "      <td>2.447144e+09</td>\n",
       "      <td>2.815363e+09</td>\n",
       "      <td>3.401771e+09</td>\n",
       "    </tr>\n",
       "  </tbody>\n",
       "</table>\n",
       "<p>5 rows × 45 columns</p>\n",
       "</div>"
      ],
      "text/plain": [
       "                          1970          1971          1972          1973  \\\n",
       "United States Ex  5.970000e+10  6.300000e+10  7.080000e+10  9.530000e+10   \n",
       "Canada Ex         1.926851e+10  2.091564e+10  2.407413e+10  2.990430e+10   \n",
       "Italy Ex          1.719227e+10  1.942104e+10  2.369204e+10  2.825918e+10   \n",
       "Romania Ex        3.286258e+08  3.609320e+08  4.586351e+08  2.517398e+09   \n",
       "Armenia Ex        0.000000e+00  0.000000e+00  0.000000e+00  0.000000e+00   \n",
       "\n",
       "                          1974          1975          1976          1977  \\\n",
       "United States Ex  1.267000e+11  1.387000e+11  1.495000e+11  1.593000e+11   \n",
       "Canada Ex         3.862719e+10  3.831190e+10  4.494299e+10  4.819629e+10   \n",
       "Italy Ex          3.696322e+10  4.264851e+10  4.503907e+10  5.506099e+10   \n",
       "Romania Ex        3.393985e+09  3.648643e+09  3.737667e+09  4.103098e+09   \n",
       "Armenia Ex        0.000000e+00  0.000000e+00  0.000000e+00  0.000000e+00   \n",
       "\n",
       "                          1978          1979      ...               2005  \\\n",
       "United States Ex  1.869000e+11  2.301000e+11      ...       1.308900e+12   \n",
       "Canada Ex         5.379827e+10  6.418693e+10      ...       4.302796e+11   \n",
       "Italy Ex          6.828815e+10  8.810804e+10      ...       4.567006e+11   \n",
       "Romania Ex        5.091164e+09  6.352882e+09      ...       3.280953e+10   \n",
       "Armenia Ex        0.000000e+00  0.000000e+00      ...       1.411788e+09   \n",
       "\n",
       "                          2006          2007          2008          2009  \\\n",
       "United States Ex  1.476320e+12  1.664620e+12  1.841940e+12  1.587740e+12   \n",
       "Canada Ex         4.647426e+11  5.003383e+11  5.316942e+11  3.898948e+11   \n",
       "Italy Ex          5.094873e+11  6.042048e+11  6.446730e+11  4.911200e+11   \n",
       "Romania Ex        3.960518e+10  4.999549e+10  5.607386e+10  4.582640e+10   \n",
       "Armenia Ex        1.491343e+09  1.766287e+09  1.754800e+09  1.338223e+09   \n",
       "\n",
       "                          2010          2011          2012          2013  \\\n",
       "United States Ex  1.852330e+12  2.106370e+12  2.198182e+12  2.263254e+12   \n",
       "Canada Ex         4.690637e+11  5.466925e+11  5.535793e+11  5.552631e+11   \n",
       "Italy Ex          5.352641e+11  6.147434e+11  5.925448e+11  6.161083e+11   \n",
       "Romania Ex        5.426640e+10  6.829798e+10  6.431258e+10  7.613694e+10   \n",
       "Armenia Ex        1.928926e+09  2.409447e+09  2.447144e+09  2.815363e+09   \n",
       "\n",
       "                          2014  \n",
       "United States Ex  2.341933e+12  \n",
       "Canada Ex         5.644229e+11  \n",
       "Italy Ex          6.331233e+11  \n",
       "Romania Ex        8.186610e+10  \n",
       "Armenia Ex        3.401771e+09  \n",
       "\n",
       "[5 rows x 45 columns]"
      ]
     },
     "execution_count": 17,
     "metadata": {},
     "output_type": "execute_result"
    }
   ],
   "source": [
    "series1 = gdp_request_grouping[0][0]\n",
    "series2 = gdp_request_grouping[0][1]\n",
    "series3 = gdp_request_grouping[0][2]\n",
    "series4 = gdp_request_grouping[0][3]\n",
    "series5 = gdp_request_grouping[0][4]\n",
    "gdp_data.loc[[series1, series2, series3, series4, series5]]"
   ]
  },
  {
   "cell_type": "code",
   "execution_count": 18,
   "metadata": {
    "collapsed": false
   },
   "outputs": [
    {
     "data": {
      "image/png": "[encoded data removed]",
      "text/plain": [
       "<matplotlib.figure.Figure at 0x9b8c978>"
      ]
     },
     "metadata": {},
     "output_type": "display_data"
    }
   ],
   "source": [
    "plt.title('GDP Time Series')\n",
    "plt.plot(gdp_data.columns, gdp_data.loc[series1], color='red')\n",
    "plt.plot(gdp_data.columns, gdp_data.loc[series2], color='blue')\n",
    "plt.plot(gdp_data.columns, gdp_data.loc[series3], color='green')\n",
    "plt.plot(gdp_data.columns, gdp_data.loc[series4], color='gray')\n",
    "plt.plot(gdp_data.columns, gdp_data.loc[series5], color='yellow')\n",
    "\n",
    "plt.scatter(time_series, gdp_data.loc[series1], color='red')\n",
    "plt.scatter(time_series, gdp_data.loc[series2], color='blue')\n",
    "plt.scatter(time_series, gdp_data.loc[series3], color='green')\n",
    "plt.scatter(time_series, gdp_data.loc[series4], color='gray')\n",
    "plt.scatter(time_series, gdp_data.loc[series5], color='yellow')\n",
    "\n",
    "plt.xlabel('Year')\n",
    "plt.ylabel('Local Currency as Expressed in USD')\n",
    "plt.show()"
   ]
  },
  {
   "cell_type": "code",
   "execution_count": 19,
   "metadata": {
    "collapsed": false
   },
   "outputs": [],
   "source": [
    "#converting the series data into an array of dictionaries for D3\n",
    "gdp_data_array_of_dicts = gdp_data.loc[[series1, series2, series3, series4, series5]].to_dict(orient='records')\n"
   ]
  },
  {
   "cell_type": "code",
   "execution_count": 20,
   "metadata": {
    "collapsed": false
   },
   "outputs": [
    {
     "data": {
      "text/html": [
       "<script src=\"https://d3js.org/d3.v4.min.js\"></script>"
      ],
      "text/plain": [
       "<IPython.core.display.HTML object>"
      ]
     },
     "execution_count": 20,
     "metadata": {},
     "output_type": "execute_result"
    }
   ],
   "source": [
    "#loading in the D3 library\n",
    "HTML('<script src=\"https://d3js.org/d3.v4.min.js\"></script>')\n",
    "# HTML('''\n",
    "# <script src=\"https://cdnjs.cloudflare.com/ajax/libs/d3/3.5.17/d3.min.js\"></script>\n",
    "# ''')"
   ]
  },
  {
   "cell_type": "code",
   "execution_count": 21,
   "metadata": {
    "collapsed": true
   },
   "outputs": [],
   "source": [
    "#css style text\n",
    "css_text = '''\n",
    ".links line {\n",
    "  stroke: #999;\n",
    "  stroke-opacity: 0.6;\n",
    "}\n",
    "\n",
    ".nodes circle {\n",
    "  stroke: #fff;\n",
    "  stroke-width: 1.5px;\n",
    "}\n",
    "'''"
   ]
  },
  {
   "cell_type": "code",
   "execution_count": 22,
   "metadata": {
    "collapsed": true
   },
   "outputs": [],
   "source": [
    "#javascript for animated path multi-series line chart\n",
    "js_text_template = Template('''\n",
    "var svg = d3.select(\"#$graphdiv\"),\n",
    "    //*****width = +svg.attr(\"width\"),\n",
    "    //*****height = +svg.attr(\"height\");\n",
    "    width = 720 - margin.left - margin.right,\n",
    "    height = 375 - margin.top - margin.bottom;\n",
    "\n",
    "var color = d3.scaleOrdinal(d3.schemeCategory20);\n",
    "\n",
    "var simulation = d3.forceSimulation()\n",
    "    .force(\"link\", d3.forceLink().id(function(d) { return d.id; }))\n",
    "    .force(\"charge\", d3.forceManyBody())\n",
    "    .force(\"center\", d3.forceCenter(width / 2, height / 2));\n",
    "\n",
    "//*****d3.json(\"miserables.json\", function(error, graph) {\n",
    "//*****  if (error) throw error;\n",
    "\n",
    "var data = $python_data ;\n",
    "\n",
    "  var link = svg.append(\"g\")\n",
    "      .attr(\"class\", \"links\")\n",
    "    .selectAll(\"line\")\n",
    "    .data(graph.links)\n",
    "    .enter().append(\"line\")\n",
    "      .attr(\"stroke-width\", function(d) { return Math.sqrt(d.value); });\n",
    "\n",
    "  var node = svg.append(\"g\")\n",
    "      .attr(\"class\", \"nodes\")\n",
    "    .selectAll(\"circle\")\n",
    "    .data(graph.nodes)\n",
    "    .enter().append(\"circle\")\n",
    "      .attr(\"r\", 5)\n",
    "      .attr(\"fill\", function(d) { return color(d.group); })\n",
    "      .call(d3.drag()\n",
    "          .on(\"start\", dragstarted)\n",
    "          .on(\"drag\", dragged)\n",
    "          .on(\"end\", dragended));\n",
    "\n",
    "  node.append(\"title\")\n",
    "      .text(function(d) { return d.id; });\n",
    "\n",
    "  simulation\n",
    "      .nodes(graph.nodes)\n",
    "      .on(\"tick\", ticked);\n",
    "\n",
    "  simulation.force(\"link\")\n",
    "      .links(graph.links);\n",
    "\n",
    "  function ticked() {\n",
    "    link\n",
    "        .attr(\"x1\", function(d) { return d.source.x; })\n",
    "        .attr(\"y1\", function(d) { return d.source.y; })\n",
    "        .attr(\"x2\", function(d) { return d.target.x; })\n",
    "        .attr(\"y2\", function(d) { return d.target.y; });\n",
    "\n",
    "    node\n",
    "        .attr(\"cx\", function(d) { return d.x; })\n",
    "        .attr(\"cy\", function(d) { return d.y; });\n",
    "  }\n",
    "//*****});\n",
    "\n",
    "function dragstarted(d) {\n",
    "  if (!d3.event.active) simulation.alphaTarget(0.3).restart();\n",
    "  d.fx = d.x;\n",
    "  d.fy = d.y;\n",
    "}\n",
    "\n",
    "function dragged(d) {\n",
    "  d.fx = d3.event.x;\n",
    "  d.fy = d3.event.y;\n",
    "}\n",
    "\n",
    "function dragended(d) {\n",
    "  if (!d3.event.active) simulation.alphaTarget(0);\n",
    "  d.fx = null;\n",
    "  d.fy = null;\n",
    "}\n",
    "''')"
   ]
  },
  {
   "cell_type": "code",
   "execution_count": 23,
   "metadata": {
    "collapsed": false
   },
   "outputs": [
    {
     "data": {
      "text/html": [
       "\n",
       "<style> \n",
       ".links line {\n",
       "  stroke: #999;\n",
       "  stroke-opacity: 0.6;\n",
       "}\n",
       "\n",
       ".nodes circle {\n",
       "  stroke: #fff;\n",
       "  stroke-width: 1.5px;\n",
       "}\n",
       " </style>\n",
       "<div id=\"graph-div\"></div>\n",
       "<script> \n",
       "var svg = d3.select(\"#graph-div\"),\n",
       "    //*****width = +svg.attr(\"width\"),\n",
       "    //*****height = +svg.attr(\"height\");\n",
       "    width = 720 - margin.left - margin.right,\n",
       "    height = 375 - margin.top - margin.bottom;\n",
       "\n",
       "var color = d3.scaleOrdinal(d3.schemeCategory20);\n",
       "\n",
       "var simulation = d3.forceSimulation()\n",
       "    .force(\"link\", d3.forceLink().id(function(d) { return d.id; }))\n",
       "    .force(\"charge\", d3.forceManyBody())\n",
       "    .force(\"center\", d3.forceCenter(width / 2, height / 2));\n",
       "\n",
       "//*****d3.json(\"miserables.json\", function(error, graph) {\n",
       "//*****  if (error) throw error;\n",
       "\n",
       "var data = [{\"1970\": 59700000000.0, \"1971\": 63000000000.0, \"1972\": 70800000000.0, \"1973\": 95300000000.0, \"1974\": 126700000000.0, \"1975\": 138700000000.0, \"1976\": 149500000000.0, \"1977\": 159300000000.0, \"1978\": 186900000000.0, \"1979\": 230100000000.0, \"1980\": 280800000000.0, \"1981\": 305200000000.0, \"1982\": 283200000000.0, \"1983\": 277000000000.0, \"1984\": 302400000000.0, \"1985\": 303200000000.0, \"1986\": 321000000000.0, \"1987\": 363900000000.0, \"1988\": 444600000000.0, \"1989\": 504300000000.0, \"1990\": 551900000000.0, \"1991\": 594900000000.0, \"1992\": 633000000000.0, \"1993\": 654800000000.0, \"1994\": 720900000000.0, \"1995\": 812810000000.0, \"1996\": 867590000000.0, \"1997\": 953800000000.0, \"1998\": 952980000000.0, \"1999\": 991980000000.0, \"2000\": 1096830000000.0, \"2001\": 1026710000000.0, \"2002\": 1002510000000.0, \"2003\": 1040280000000.0, \"2004\": 1181510000000.0, \"2005\": 1308900000000.0, \"2006\": 1476320000000.0, \"2007\": 1664620000000.0, \"2008\": 1841940000000.0, \"2009\": 1587740000000.0, \"2010\": 1852330000000.0, \"2011\": 2106370000000.0, \"2012\": 2198182300000.0, \"2013\": 2263253700000.0, \"2014\": 2341932600000.0}, {\"1970\": 19268510173.609421, \"1971\": 20915644063.894436, \"1972\": 24074129955.614964, \"1973\": 29904295502.27911, \"1974\": 38627190431.096954, \"1975\": 38311900132.05674, \"1976\": 44942989960.901337, \"1977\": 48196288386.021431, \"1978\": 53798271023.618034, \"1979\": 64186933034.631729, \"1980\": 75547739283.59314, \"1981\": 80971161315.414749, \"1982\": 79138657775.391022, \"1983\": 85041044088.20694, \"1984\": 99465921985.860672, \"1985\": 100651539778.54347, \"1986\": 102020151151.85681, \"1987\": 112299348286.50255, \"1988\": 132296983444.49333, \"1989\": 141573631571.16815, \"1990\": 148913886567.67587, \"1991\": 148534978106.86179, \"1992\": 155083248877.94989, \"1993\": 168145371487.03983, \"1994\": 189504053659.888, \"1995\": 218079346468.4877, \"1996\": 233253675369.55389, \"1997\": 249005380550.57358, \"1998\": 253014722251.54239, \"1999\": 283118418646.70496, \"2000\": 328369615718.70099, \"2001\": 309553928328.72302, \"2002\": 303437479755.01038, \"2003\": 328655973905.31635, \"2004\": 381523203283.57959, \"2005\": 430279565041.57855, \"2006\": 464742630961.86108, \"2007\": 500338345543.82385, \"2008\": 531694219523.16681, \"2009\": 389894832459.62952, \"2010\": 469063732446.72876, \"2011\": 546692492147.53473, \"2012\": 553579334963.95264, \"2013\": 555263065264.64185, \"2014\": 564422936006.88232}, {\"1970\": 17192267622.670403, \"1971\": 19421037039.216267, \"1972\": 23692037930.794739, \"1973\": 28259181255.231369, \"1974\": 36963220111.904999, \"1975\": 42648513468.647423, \"1976\": 45039069229.553375, \"1977\": 55060990120.014854, \"1978\": 68288153243.089813, \"1979\": 88108044831.739868, \"1980\": 96317391920.096924, \"1981\": 93297253831.965668, \"1982\": 90221150519.094681, \"1983\": 90064180001.018768, \"1984\": 91959836140.476257, \"1985\": 95452668312.310303, \"1986\": 119748687660.79201, \"1987\": 144880260965.16364, \"1988\": 156689317914.91574, \"1989\": 171918053138.11298, \"1990\": 216949015229.93869, \"1991\": 213047369440.86847, \"1992\": 230593649800.09354, \"1993\": 216651436466.83124, \"1994\": 239683047915.20993, \"1995\": 289772758093.00525, \"1996\": 311053292018.02979, \"1997\": 299861917085.5462, \"1998\": 305475928927.99872, \"1999\": 290288602318.84149, \"2000\": 292950134397.35394, \"2001\": 299082039534.32184, \"2002\": 309956899350.77667, \"2003\": 366667587122.76898, \"2004\": 432745475653.89606, \"2005\": 456700604387.40485, \"2006\": 509487298877.55096, \"2007\": 604204807445.55261, \"2008\": 644673037910.96533, \"2009\": 491120026592.01965, \"2010\": 535264130877.12549, \"2011\": 614743449472.69971, \"2012\": 592544830335.00708, \"2013\": 616108322362.7196, \"2014\": 633123258417.57385}, {\"1970\": 328625834.90415436, \"1971\": 360931973.44922167, \"1972\": 458635092.85701066, \"1973\": 2517398128.8631992, \"1974\": 3393985000.0, \"1975\": 3648643000.0, \"1976\": 3737667000.0, \"1977\": 4103098000.0, \"1978\": 5091164336.0207109, \"1979\": 6352882222.2222214, \"1980\": 7551855555.5555544, \"1981\": 11362621333.333332, \"1982\": 11269610666.666664, \"1983\": 11636134703.601482, \"1984\": 10460840532.468826, \"1985\": 13469559984.187168, \"1986\": 13758886716.574501, \"1987\": 15104073641.547024, \"1988\": 15012996503.680183, \"1989\": 10958512669.008537, \"1990\": 6262803499.4520493, \"1991\": 4972870603.405673, \"1992\": 5327625267.8977337, \"1993\": 5940936226.8532476, \"1994\": 7332407954.6730452, \"1995\": 9593386042.4741497, \"1996\": 9768766307.8236217, \"1997\": 10031189792.702045, \"1998\": 9596560448.5192547, \"1999\": 10024628513.802485, \"2000\": 12248349501.630777, \"2001\": 13419249016.788086, \"2002\": 16264498752.549885, \"2003\": 20680046239.861183, \"2004\": 27161679222.708313, \"2005\": 32809533095.308357, \"2006\": 39605183370.021172, \"2007\": 49995488567.620216, \"2008\": 56073856211.312668, \"2009\": 45826404204.209129, \"2010\": 54266402341.168694, \"2011\": 68297982959.437851, \"2012\": 64312582896.026756, \"2013\": 76136942531.6138, \"2014\": 81866101353.318359}, {\"1970\": 0.0, \"1971\": 0.0, \"1972\": 0.0, \"1973\": 0.0, \"1974\": 0.0, \"1975\": 0.0, \"1976\": 0.0, \"1977\": 0.0, \"1978\": 0.0, \"1979\": 0.0, \"1980\": 0.0, \"1981\": 0.0, \"1982\": 0.0, \"1983\": 0.0, \"1984\": 0.0, \"1985\": 0.0, \"1986\": 0.0, \"1987\": 0.0, \"1988\": 0.0, \"1989\": 0.0, \"1990\": 757051667.01163101, \"1991\": 801875076.33074093, \"1992\": 464145070.01678693, \"1993\": 388704445.52596891, \"1994\": 464220771.19418037, \"1995\": 307865076.26927263, \"1996\": 371134294.50912523, \"1997\": 332211608.04963058, \"1998\": 359569432.47873402, \"1999\": 383088434.32737213, \"2000\": 446833098.81670785, \"2001\": 539522122.33857524, \"2002\": 697606478.84376132, \"2003\": 902556039.38965428, \"2004\": 1063498198.0532414, \"2005\": 1411788151.7697692, \"2006\": 1491343256.9315393, \"2007\": 1766287304.2253408, \"2008\": 1754799661.4705737, \"2009\": 1338222867.0084705, \"2010\": 1928926028.1950104, \"2011\": 2409446641.0387044, \"2012\": 2447143745.1947908, \"2013\": 2815362564.619997, \"2014\": 3401771295.1447177}] ;\n",
       "\n",
       "  var link = svg.append(\"g\")\n",
       "      .attr(\"class\", \"links\")\n",
       "    .selectAll(\"line\")\n",
       "    .data(graph.links)\n",
       "    .enter().append(\"line\")\n",
       "      .attr(\"stroke-width\", function(d) { return Math.sqrt(d.value); });\n",
       "\n",
       "  var node = svg.append(\"g\")\n",
       "      .attr(\"class\", \"nodes\")\n",
       "    .selectAll(\"circle\")\n",
       "    .data(graph.nodes)\n",
       "    .enter().append(\"circle\")\n",
       "      .attr(\"r\", 5)\n",
       "      .attr(\"fill\", function(d) { return color(d.group); })\n",
       "      .call(d3.drag()\n",
       "          .on(\"start\", dragstarted)\n",
       "          .on(\"drag\", dragged)\n",
       "          .on(\"end\", dragended));\n",
       "\n",
       "  node.append(\"title\")\n",
       "      .text(function(d) { return d.id; });\n",
       "\n",
       "  simulation\n",
       "      .nodes(graph.nodes)\n",
       "      .on(\"tick\", ticked);\n",
       "\n",
       "  simulation.force(\"link\")\n",
       "      .links(graph.links);\n",
       "\n",
       "  function ticked() {\n",
       "    link\n",
       "        .attr(\"x1\", function(d) { return d.source.x; })\n",
       "        .attr(\"y1\", function(d) { return d.source.y; })\n",
       "        .attr(\"x2\", function(d) { return d.target.x; })\n",
       "        .attr(\"y2\", function(d) { return d.target.y; });\n",
       "\n",
       "    node\n",
       "        .attr(\"cx\", function(d) { return d.x; })\n",
       "        .attr(\"cy\", function(d) { return d.y; });\n",
       "  }\n",
       "//*****});\n",
       "\n",
       "function dragstarted(d) {\n",
       "  if (!d3.event.active) simulation.alphaTarget(0.3).restart();\n",
       "  d.fx = d.x;\n",
       "  d.fy = d.y;\n",
       "}\n",
       "\n",
       "function dragged(d) {\n",
       "  d.fx = d3.event.x;\n",
       "  d.fy = d3.event.y;\n",
       "}\n",
       "\n",
       "function dragended(d) {\n",
       "  if (!d3.event.active) simulation.alphaTarget(0);\n",
       "  d.fx = null;\n",
       "  d.fy = null;\n",
       "}\n",
       " </script>\n"
      ],
      "text/plain": [
       "<IPython.core.display.HTML object>"
      ]
     },
     "execution_count": 23,
     "metadata": {},
     "output_type": "execute_result"
    }
   ],
   "source": [
    "html_template = Template('''\n",
    "<style> $css_text </style>\n",
    "<div id=\"graph-div\"></div>\n",
    "<script> $js_text </script>\n",
    "''')\n",
    "js_text = js_text_template.substitute({'python_data': json.dumps(gdp_data_array_of_dicts),\n",
    "                                       'graphdiv': 'graph-div'})\n",
    "HTML(html_template.substitute({'css_text': css_text, 'js_text': js_text}))"
   ]
  },
  {
   "cell_type": "code",
   "execution_count": null,
   "metadata": {
    "collapsed": true
   },
   "outputs": [],
   "source": []
  },
  {
   "cell_type": "code",
   "execution_count": null,
   "metadata": {
    "collapsed": true
   },
   "outputs": [],
   "source": []
  }
 ],
 "metadata": {
  "anaconda-cloud": {},
  "kernelspec": {
   "display_name": "Python [default]",
   "language": "python",
   "name": "python2"
  },
  "language_info": {
   "codemirror_mode": {
    "name": "ipython",
    "version": 2
   },
   "file_extension": ".py",
   "mimetype": "text/x-python",
   "name": "python",
   "nbconvert_exporter": "python",
   "pygments_lexer": "ipython2",
   "version": "2.7.12"
  }
 },
 "nbformat": 4,
 "nbformat_minor": 1
}
