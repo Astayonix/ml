{
 "cells": [
  {
   "cell_type": "code",
   "execution_count": 89,
   "metadata": {
    "collapsed": true
   },
   "outputs": [],
   "source": [
    "import pandas as pd\n",
    "import matplotlib.pyplot as plt"
   ]
  },
  {
   "cell_type": "code",
   "execution_count": 90,
   "metadata": {
    "collapsed": false
   },
   "outputs": [],
   "source": [
    "gdp_data = pd.read_excel('datasets/gdp_Download-GDPcurrent-USD-countries.xls', skiprows=2)"
   ]
  },
  {
   "cell_type": "code",
   "execution_count": 91,
   "metadata": {
    "collapsed": false
   },
   "outputs": [],
   "source": [
    "#creating a time-series\n",
    "time_series = []\n",
    "for column in gdp_data.columns:\n",
    "    if type(column) == int:\n",
    "        time_series.append(column)"
   ]
  },
  {
   "cell_type": "code",
   "execution_count": 92,
   "metadata": {
    "collapsed": false
   },
   "outputs": [],
   "source": [
    "#creating the country set\n",
    "country_set = set(gdp_data.Country)"
   ]
  },
  {
   "cell_type": "code",
   "execution_count": 99,
   "metadata": {
    "collapsed": true
   },
   "outputs": [],
   "source": [
    "meanings = {'Exports of goods and services':'Ex', 'General government final consumption expenditure':'G', 'Gross Domestic Product (GDP)':'GDP', 'Imports of goods and services':'Im', 'Household consumption expenditure (including Non-profit institutions serving households)':'C', 'Gross capital formation':'I'}"
   ]
  },
  {
   "cell_type": "code",
   "execution_count": 111,
   "metadata": {
    "collapsed": true
   },
   "outputs": [],
   "source": [
    "def convertname(x):\n",
    "    if x in meanings.keys():\n",
    "        return meanings[x]\n",
    "    else:\n",
    "        return x"
   ]
  },
  {
   "cell_type": "code",
   "execution_count": 112,
   "metadata": {
    "collapsed": false,
    "scrolled": true
   },
   "outputs": [],
   "source": [
    "converted_name = gdp_data.IndicatorName.map(lambda x: convertname(x))"
   ]
  },
  {
   "cell_type": "code",
   "execution_count": 118,
   "metadata": {
    "collapsed": false
   },
   "outputs": [
    {
     "data": {
      "text/plain": [
       "Index([      u'Country', u'IndicatorName',             1970,             1971,\n",
       "                   1972,             1973,             1974,             1975,\n",
       "                   1976,             1977,             1978,             1979,\n",
       "                   1980,             1981,             1982,             1983,\n",
       "                   1984,             1985,             1986,             1987,\n",
       "                   1988,             1989,             1990,             1991,\n",
       "                   1992,             1993,             1994,             1995,\n",
       "                   1996,             1997,             1998,             1999,\n",
       "                   2000,             2001,             2002,             2003,\n",
       "                   2004,             2005,             2006,             2007,\n",
       "                   2008,             2009,             2010,             2011,\n",
       "                   2012,             2013,             2014,        u'Concat'],\n",
       "      dtype='object')"
      ]
     },
     "execution_count": 118,
     "metadata": {},
     "output_type": "execute_result"
    }
   ],
   "source": [
    "gdp_data['Concat'] = gdp_data['Country']+ \" \" + converted_name\n",
    "gdp_data.columns"
   ]
  },
  {
   "cell_type": "code",
   "execution_count": null,
   "metadata": {
    "collapsed": true
   },
   "outputs": [],
   "source": []
  }
 ],
 "metadata": {
  "kernelspec": {
   "display_name": "Python [default]",
   "language": "python",
   "name": "python2"
  },
  "language_info": {
   "codemirror_mode": {
    "name": "ipython",
    "version": 2
   },
   "file_extension": ".py",
   "mimetype": "text/x-python",
   "name": "python",
   "nbconvert_exporter": "python",
   "pygments_lexer": "ipython2",
   "version": "2.7.12"
  }
 },
 "nbformat": 4,
 "nbformat_minor": 1
}
