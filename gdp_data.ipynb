{
 "cells": [
  {
   "cell_type": "code",
   "execution_count": 1,
   "metadata": {
    "collapsed": false
   },
   "outputs": [],
   "source": [
    "#importing the libraries\n",
    "import pandas as pd\n",
    "import matplotlib.pyplot as plt\n",
    "import numpy as np\n",
    "from __future__ import unicode_literals\n",
    "from IPython.core.display import HTML\n",
    "# from d3- import d3_lib"
   ]
  },
  {
   "cell_type": "code",
   "execution_count": 2,
   "metadata": {
    "collapsed": false
   },
   "outputs": [],
   "source": [
    "#reading in the Excel file\n",
    "gdp_data = pd.read_excel('datasets/gdp_Download-GDPcurrent-USD-countries.xls', skiprows=2)"
   ]
  },
  {
   "cell_type": "code",
   "execution_count": 3,
   "metadata": {
    "collapsed": false
   },
   "outputs": [],
   "source": [
    "#creating a time-series\n",
    "time_series = []\n",
    "for column in gdp_data.columns:\n",
    "    if type(column) == int:\n",
    "        time_series.append(column)"
   ]
  },
  {
   "cell_type": "code",
   "execution_count": 4,
   "metadata": {
    "collapsed": false
   },
   "outputs": [],
   "source": [
    "#creating the country set\n",
    "country_set = set(gdp_data.Country)"
   ]
  },
  {
   "cell_type": "code",
   "execution_count": 5,
   "metadata": {
    "collapsed": true
   },
   "outputs": [],
   "source": [
    "#creating the shortened versions of the indicators\n",
    "meanings = {'Exports of goods and services':'Ex', 'General government final consumption expenditure':'G', 'Gross Domestic Product (GDP)':'GDP', 'Imports of goods and services':'Im', 'Household consumption expenditure (including Non-profit institutions serving households)':'C', 'Gross capital formation':'I'}"
   ]
  },
  {
   "cell_type": "code",
   "execution_count": 6,
   "metadata": {
    "collapsed": true
   },
   "outputs": [],
   "source": [
    "'''converts the long-form of the column name to the shortened version as per the meanings dict'''\n",
    "def convertname(x):\n",
    "    if x in meanings.keys():\n",
    "        return meanings[x]\n",
    "    else:\n",
    "        return x"
   ]
  },
  {
   "cell_type": "code",
   "execution_count": 7,
   "metadata": {
    "collapsed": false,
    "scrolled": true
   },
   "outputs": [],
   "source": [
    "#an annonymous function that converts names in the IndicatorName columun into its shortened version per the meanings dict\n",
    "converted_name = gdp_data.IndicatorName.map(lambda x: convertname(x))"
   ]
  },
  {
   "cell_type": "code",
   "execution_count": 8,
   "metadata": {
    "collapsed": false
   },
   "outputs": [],
   "source": [
    "#creates a new column to the end of the dataframe that is a concatenation of the country name and the shortened indicator name\n",
    "gdp_data['Concat'] = gdp_data['Country']+ \" \" + converted_name"
   ]
  },
  {
   "cell_type": "code",
   "execution_count": 9,
   "metadata": {
    "collapsed": false
   },
   "outputs": [],
   "source": [
    "#sets the index column of the dataframe to the Concat column for ease of filtering\n",
    "gdp_data.set_index('Concat', inplace=True)"
   ]
  },
  {
   "cell_type": "code",
   "execution_count": 10,
   "metadata": {
    "collapsed": true
   },
   "outputs": [],
   "source": [
    "#fills in all NaN values with 0's\n",
    "gdp_data.fillna(0, inplace=True)"
   ]
  },
  {
   "cell_type": "code",
   "execution_count": 11,
   "metadata": {
    "collapsed": false
   },
   "outputs": [],
   "source": [
    "#converts all float data-types to integers\n",
    "# for column in gdp_data.columns:\n",
    "#     if gdp_data[column].dtype == float:\n",
    "#         gdp_data[column] = gdp_data[column].astype(int)"
   ]
  },
  {
   "cell_type": "code",
   "execution_count": 12,
   "metadata": {
    "collapsed": true
   },
   "outputs": [],
   "source": [
    "#removes the index name as a header\n",
    "gdp_data.index.name = None"
   ]
  },
  {
   "cell_type": "code",
   "execution_count": 13,
   "metadata": {
    "collapsed": false
   },
   "outputs": [],
   "source": [
    "#drops all rows that do not do not have abbreviated indicator names from the dataframe\n",
    "abbv_list = ['C','I','G','Ex','Im', 'GDP']\n",
    "for indicator in gdp_data.index:\n",
    "    split_indicator = indicator.split()\n",
    "    if split_indicator[-1].strip() not in abbv_list:\n",
    "        gdp_data.drop(indicator, inplace = True)"
   ]
  },
  {
   "cell_type": "code",
   "execution_count": 14,
   "metadata": {
    "collapsed": false
   },
   "outputs": [],
   "source": [
    "#removing the Country and IndicatorName columns\n",
    "remove_cols = ['IndicatorName', 'Country']\n",
    "gdp_data.drop(remove_cols, axis=1, inplace=True)"
   ]
  },
  {
   "cell_type": "code",
   "execution_count": 15,
   "metadata": {
    "collapsed": false
   },
   "outputs": [
    {
     "name": "stdout",
     "output_type": "stream",
     "text": [
      "set([u'Canada', u'Sao Tome and Principe', u'Turkmenistan', u'Yugoslavia (Former)', u'Lithuania', u'Cambodia', u'Switzerland', u'Ethiopia', u'Aruba', u'Swaziland', u'Argentina', u'Cameroon', u'Burkina Faso', u'Ghana', u'Saudi Arabia', u'Japan', u'State of Palestine', u'Slovenia', u'Guatemala', u'Bosnia and Herzegovina', u'Kuwait', u'Russian Federation', u'Jordan', u'Dominica', u'Liberia', u'Maldives', u'Jamaica', u'Oman', u'Cabo Verde', u'Albania', u'Gabon', u'Monaco', u'Samoa', u'New Zealand', u'Yemen', u'Andorra', u'Greenland', u\"Lao People's DR\", u'United Arab Emirates', u'Czechoslovakia (Former)', u'India', u'Azerbaijan', u'Lesotho', u'Kenya', u'Tajikistan', u'Turkey', u'Afghanistan', u'Micronesia (FS of)', u'Bangladesh', u'Mauritania', u'Iran (Islamic Republic of)', u'Sudan (Former)', u'Saint Lucia', u'San Marino', u'French Polynesia', u'France', u'Syrian Arab Republic', u'Bermuda', u'Slovakia', u'Somalia', u'Peru', u'Vanuatu', u'Nauru', u'Seychelles', u'Norway', u'Malawi', u'Cook Islands', u'Benin', u'Cuba', u'Montenegro', u'Saint Kitts and Nevis', u'Togo', u'China', u'Armenia', u'Republic of Korea', u'Dominican Republic', u'Bolivia (Plurinational State of)', u'Ukraine', u'Bahrain', u'Tonga', u'Finland', u'Libya', u'Yemen Arab Republic (Former)', u'Cayman Islands', u'Central African Republic', u'Mauritius', u'Liechtenstein', u'Australia', u'British Virgin Islands', u'Mali', u'Sweden', u'D.P.R. of Korea', u'Bulgaria', u'Yemen Democratic (Former)', u'United States', u'Romania', u'Angola', u'Chad', u'South Africa', u'St. Vincent and the Grenadines', u'Cyprus', u'Brunei Darussalam', u'Qatar', u'Malaysia', u'Austria', u'Mozambique', u'Uganda', u'Hungary', u'Niger', u'Brazil', u'Guinea', u'Panama', u'Republic of Moldova', u'Costa Rica', u'Luxembourg', u'Bahamas', u'Ireland', u'Pakistan', u'Palau', u'Nigeria', u'Ecuador', u'Czech Republic', u'Viet Nam', u'Belarus', u'Algeria', u'El Salvador', u'Tuvalu', u'Solomon Islands', u'Marshall Islands', u'Chile', u'Puerto Rico', u'Belgium', u'Kiribati', u'Former Netherlands Antilles', u'Belize', u'Sierra Leone', u'Georgia', u'China, Hong Kong SAR', u'Gambia', u'Philippines', u'D.R. of the Congo', u'China, Macao SAR', u'Morocco', u'Uruguay', u'Croatia', u'Mongolia', u'Guinea-Bissau', u'Thailand', u'Namibia', u'Grenada', u'Haiti', u'TFYR of Macedonia', u'Venezuela (Bolivarian Republic of)', u'Iraq', u'Portugal', u'Estonia', u'Kosovo', u'USSR (Former)', u'Mexico', u'Lebanon', u'Uzbekistan', u'Tunisia', u'Djibouti', u'Rwanda', u'Antigua and Barbuda', u'Spain', u'Colombia', u'Burundi', u'Fiji', u'Barbados', u'Madagascar', u'Italy', u'Bhutan', u'Sudan', u'Nepal', u'Malta', u'Netherlands', u'Suriname', u'Ethiopia (Former)', u'Anguilla', u'Turks and Caicos Islands', u'U.R. of Tanzania: Mainland', u'United Kingdom', u'Israel', u'Indonesia', u'Iceland', u'Zambia', u'Senegal', u'Papua New Guinea', u'Trinidad and Tobago', u'Zimbabwe', u'Germany', u'Denmark', u'Kazakhstan', u'Poland', u'Eritrea', u'Kyrgyzstan', u'Montserrat', u'New Caledonia', u'Sri Lanka', u'Latvia', u'South Sudan', u'Guyana', u\"C\\xf4te d'Ivoire\", u'Honduras', u'Myanmar', u'Equatorial Guinea', u'Egypt', u'Nicaragua', u'Singapore', u'Serbia', u'Botswana', u'Timor-Leste', u'Congo', u'Sint Maarten (Dutch part)', u'Greece', u'Paraguay', u'Cura\\xe7ao', u'Comoros', u'Zanzibar'])\n",
      "\n",
      "\n",
      "Please type in the name of the country or countries you want to investigate (separate with \", \"): Poland, United States, Cuba, Greece\n",
      "[u'Poland', u'United States', u'Cuba', u'Greece']\n",
      "\n",
      "\n",
      "For Consumer/Personal consumption, type C\n",
      "For Investment/Business consumption, type I\n",
      "For Government consumption, type G\n",
      "For Total Exports, type Ex\n",
      "For Total Imports, type Im\n",
      "For Aggregate consumption, type GDP\n",
      "\n",
      "Please type in the abbrieviate name of the GDP Indicator.(separate with \", \"): I, G, GDP\n",
      "[u'I', u'G', u'GDP']\n",
      "\n",
      "\n"
     ]
    }
   ],
   "source": [
    "#declaring chart variables\n",
    "\n",
    "#reminder of which countries are available\n",
    "print country_set\n",
    "print '\\n'\n",
    "\n",
    "#user selects countries to investigate\n",
    "user_country_select = raw_input('Please type in the name of the country or countries you want to investigate (separate with \", \"): ')\n",
    "user_country_list = list(user_country_select.split(', '))\n",
    "print user_country_list \n",
    "print '\\n'\n",
    "\n",
    "print 'For Consumer/Personal consumption, type C' + '\\n',\\\n",
    "'For Investment/Business consumption, type I' + '\\n',\\\n",
    "'For Government consumption, type G' + '\\n',\\\n",
    "'For Total Exports, type Ex' + '\\n',\\\n",
    "'For Total Imports, type Im' + '\\n',\\\n",
    "'For Aggregate consumption, type GDP'+ '\\n'\n",
    "\n",
    "user_indicator_select = raw_input('Please type in the abbrieviate name of the GDP Indicator.(separate with \", \"): ')\n",
    "user_indicator_list = list(user_indicator_select.split(', '))\n",
    "print user_indicator_list\n",
    "print '\\n'"
   ]
  },
  {
   "cell_type": "code",
   "execution_count": 16,
   "metadata": {
    "collapsed": false
   },
   "outputs": [
    {
     "name": "stdout",
     "output_type": "stream",
     "text": [
      "[[u'Poland I', u'United States I', u'Cuba I', u'Greece I'], [u'Poland G', u'United States G', u'Cuba G', u'Greece G'], [u'Poland GDP', u'United States GDP', u'Cuba GDP', u'Greece GDP']]\n"
     ]
    }
   ],
   "source": [
    "#grouping the indicators and countries\n",
    "gdp_request_grouping = []\n",
    "\n",
    "for indicator in user_indicator_list:\n",
    "    inner_grouping = []\n",
    "    for country in user_country_list:\n",
    "        indicator_country = country +\" \"+ indicator\n",
    "        if indicator == 'C':\n",
    "            inner_grouping.append(indicator_country)\n",
    "        elif indicator == 'I':\n",
    "            inner_grouping.append(indicator_country)\n",
    "        elif indicator == 'G':\n",
    "            inner_grouping.append(indicator_country)\n",
    "        elif indicator == 'Ex':\n",
    "            inner_grouping.append(indicator_country)\n",
    "        elif indicator == 'Im':\n",
    "            inner_grouping.append(indicator_country)\n",
    "        elif indicator == 'GDP':\n",
    "            inner_grouping.append(indicator_country)\n",
    "        else:\n",
    "            print 'oops'\n",
    "    gdp_request_grouping.append(inner_grouping)\n",
    "\n",
    "print gdp_request_grouping"
   ]
  },
  {
   "cell_type": "code",
   "execution_count": 19,
   "metadata": {
    "collapsed": false
   },
   "outputs": [
    {
     "data": {
      "text/html": [
       "<div>\n",
       "<table border=\"1\" class=\"dataframe\">\n",
       "  <thead>\n",
       "    <tr style=\"text-align: right;\">\n",
       "      <th></th>\n",
       "      <th>1970</th>\n",
       "      <th>1971</th>\n",
       "      <th>1972</th>\n",
       "      <th>1973</th>\n",
       "      <th>1974</th>\n",
       "      <th>1975</th>\n",
       "      <th>1976</th>\n",
       "      <th>1977</th>\n",
       "      <th>1978</th>\n",
       "      <th>1979</th>\n",
       "      <th>...</th>\n",
       "      <th>2005</th>\n",
       "      <th>2006</th>\n",
       "      <th>2007</th>\n",
       "      <th>2008</th>\n",
       "      <th>2009</th>\n",
       "      <th>2010</th>\n",
       "      <th>2011</th>\n",
       "      <th>2012</th>\n",
       "      <th>2013</th>\n",
       "      <th>2014</th>\n",
       "    </tr>\n",
       "  </thead>\n",
       "  <tbody>\n",
       "    <tr>\n",
       "      <th>Poland I</th>\n",
       "      <td>5.778690e+09</td>\n",
       "      <td>6.365923e+09</td>\n",
       "      <td>7.042640e+09</td>\n",
       "      <td>8.346771e+09</td>\n",
       "      <td>9.394074e+09</td>\n",
       "      <td>1.013261e+10</td>\n",
       "      <td>1.081622e+10</td>\n",
       "      <td>1.235272e+10</td>\n",
       "      <td>1.404872e+10</td>\n",
       "      <td>1.591795e+10</td>\n",
       "      <td>...</td>\n",
       "      <td>5.975429e+10</td>\n",
       "      <td>7.390696e+10</td>\n",
       "      <td>1.063292e+11</td>\n",
       "      <td>1.289007e+11</td>\n",
       "      <td>8.821170e+10</td>\n",
       "      <td>1.021590e+11</td>\n",
       "      <td>1.186669e+11</td>\n",
       "      <td>1.050289e+11</td>\n",
       "      <td>9.950527e+10</td>\n",
       "      <td>1.104417e+11</td>\n",
       "    </tr>\n",
       "    <tr>\n",
       "      <th>United States I</th>\n",
       "      <td>2.298000e+11</td>\n",
       "      <td>2.553000e+11</td>\n",
       "      <td>2.888000e+11</td>\n",
       "      <td>3.326000e+11</td>\n",
       "      <td>3.507000e+11</td>\n",
       "      <td>3.416000e+11</td>\n",
       "      <td>4.129000e+11</td>\n",
       "      <td>4.898000e+11</td>\n",
       "      <td>5.839000e+11</td>\n",
       "      <td>6.598000e+11</td>\n",
       "      <td>...</td>\n",
       "      <td>3.040750e+12</td>\n",
       "      <td>3.233000e+12</td>\n",
       "      <td>3.235950e+12</td>\n",
       "      <td>3.059440e+12</td>\n",
       "      <td>2.525140e+12</td>\n",
       "      <td>2.752640e+12</td>\n",
       "      <td>2.877760e+12</td>\n",
       "      <td>3.126140e+12</td>\n",
       "      <td>3.257301e+12</td>\n",
       "      <td>3.455859e+12</td>\n",
       "    </tr>\n",
       "    <tr>\n",
       "      <th>Cuba I</th>\n",
       "      <td>1.476022e+09</td>\n",
       "      <td>1.793453e+09</td>\n",
       "      <td>2.109814e+09</td>\n",
       "      <td>2.588439e+09</td>\n",
       "      <td>2.953232e+09</td>\n",
       "      <td>3.381257e+09</td>\n",
       "      <td>3.583517e+09</td>\n",
       "      <td>3.682579e+09</td>\n",
       "      <td>4.608347e+09</td>\n",
       "      <td>5.047075e+09</td>\n",
       "      <td>...</td>\n",
       "      <td>4.594500e+09</td>\n",
       "      <td>6.186000e+09</td>\n",
       "      <td>5.968000e+09</td>\n",
       "      <td>9.026500e+09</td>\n",
       "      <td>6.788000e+09</td>\n",
       "      <td>6.482000e+09</td>\n",
       "      <td>5.889169e+09</td>\n",
       "      <td>6.271400e+09</td>\n",
       "      <td>6.846000e+09</td>\n",
       "      <td>7.151897e+09</td>\n",
       "    </tr>\n",
       "    <tr>\n",
       "      <th>Greece I</th>\n",
       "      <td>4.788280e+09</td>\n",
       "      <td>5.544895e+09</td>\n",
       "      <td>7.045834e+09</td>\n",
       "      <td>1.078525e+10</td>\n",
       "      <td>9.692995e+09</td>\n",
       "      <td>1.039278e+10</td>\n",
       "      <td>1.190714e+10</td>\n",
       "      <td>1.220621e+10</td>\n",
       "      <td>1.450784e+10</td>\n",
       "      <td>1.748521e+10</td>\n",
       "      <td>...</td>\n",
       "      <td>5.475689e+10</td>\n",
       "      <td>7.147412e+10</td>\n",
       "      <td>8.640755e+10</td>\n",
       "      <td>8.688614e+10</td>\n",
       "      <td>6.051146e+10</td>\n",
       "      <td>5.103588e+10</td>\n",
       "      <td>4.347087e+10</td>\n",
       "      <td>3.145359e+10</td>\n",
       "      <td>2.749482e+10</td>\n",
       "      <td>2.879975e+10</td>\n",
       "    </tr>\n",
       "  </tbody>\n",
       "</table>\n",
       "<p>4 rows × 45 columns</p>\n",
       "</div>"
      ],
      "text/plain": [
       "                         1970          1971          1972          1973  \\\n",
       "Poland I         5.778690e+09  6.365923e+09  7.042640e+09  8.346771e+09   \n",
       "United States I  2.298000e+11  2.553000e+11  2.888000e+11  3.326000e+11   \n",
       "Cuba I           1.476022e+09  1.793453e+09  2.109814e+09  2.588439e+09   \n",
       "Greece I         4.788280e+09  5.544895e+09  7.045834e+09  1.078525e+10   \n",
       "\n",
       "                         1974          1975          1976          1977  \\\n",
       "Poland I         9.394074e+09  1.013261e+10  1.081622e+10  1.235272e+10   \n",
       "United States I  3.507000e+11  3.416000e+11  4.129000e+11  4.898000e+11   \n",
       "Cuba I           2.953232e+09  3.381257e+09  3.583517e+09  3.682579e+09   \n",
       "Greece I         9.692995e+09  1.039278e+10  1.190714e+10  1.220621e+10   \n",
       "\n",
       "                         1978          1979      ...               2005  \\\n",
       "Poland I         1.404872e+10  1.591795e+10      ...       5.975429e+10   \n",
       "United States I  5.839000e+11  6.598000e+11      ...       3.040750e+12   \n",
       "Cuba I           4.608347e+09  5.047075e+09      ...       4.594500e+09   \n",
       "Greece I         1.450784e+10  1.748521e+10      ...       5.475689e+10   \n",
       "\n",
       "                         2006          2007          2008          2009  \\\n",
       "Poland I         7.390696e+10  1.063292e+11  1.289007e+11  8.821170e+10   \n",
       "United States I  3.233000e+12  3.235950e+12  3.059440e+12  2.525140e+12   \n",
       "Cuba I           6.186000e+09  5.968000e+09  9.026500e+09  6.788000e+09   \n",
       "Greece I         7.147412e+10  8.640755e+10  8.688614e+10  6.051146e+10   \n",
       "\n",
       "                         2010          2011          2012          2013  \\\n",
       "Poland I         1.021590e+11  1.186669e+11  1.050289e+11  9.950527e+10   \n",
       "United States I  2.752640e+12  2.877760e+12  3.126140e+12  3.257301e+12   \n",
       "Cuba I           6.482000e+09  5.889169e+09  6.271400e+09  6.846000e+09   \n",
       "Greece I         5.103588e+10  4.347087e+10  3.145359e+10  2.749482e+10   \n",
       "\n",
       "                         2014  \n",
       "Poland I         1.104417e+11  \n",
       "United States I  3.455859e+12  \n",
       "Cuba I           7.151897e+09  \n",
       "Greece I         2.879975e+10  \n",
       "\n",
       "[4 rows x 45 columns]"
      ]
     },
     "execution_count": 19,
     "metadata": {},
     "output_type": "execute_result"
    }
   ],
   "source": [
    "series1 = gdp_request_grouping[0][0]\n",
    "series2 = gdp_request_grouping[0][1]\n",
    "series3 = gdp_request_grouping[0][2]\n",
    "series4 = gdp_request_grouping[0][3]\n",
    "gdp_data.loc[[series1, series2, series3, series4]]"
   ]
  },
  {
   "cell_type": "code",
   "execution_count": 20,
   "metadata": {
    "collapsed": false
   },
   "outputs": [
    {
     "data": {
      "image/png": "[encoded data removed]",
      "text/plain": [
       "<matplotlib.figure.Figure at 0xab290b8>"
      ]
     },
     "metadata": {},
     "output_type": "display_data"
    }
   ],
   "source": [
    "plt.title('GDP Time Series')\n",
    "plt.plot(gdp_data.columns, gdp_data.loc[series1], color='red')\n",
    "plt.plot(gdp_data.columns, gdp_data.loc[series2], color='blue')\n",
    "plt.plot(gdp_data.columns, gdp_data.loc[series3], color='green')\n",
    "plt.plot(gdp_data.columns, gdp_data.loc[series4], color='gray')\n",
    "plt.scatter(time_series, gdp_data.loc[series1], color='red')\n",
    "plt.scatter(time_series, gdp_data.loc[series2], color='blue')\n",
    "plt.scatter(time_series, gdp_data.loc[series3], color='green')\n",
    "plt.scatter(time_series, gdp_data.loc[series4], color='gray')\n",
    "plt.xlabel('Year')\n",
    "plt.ylabel('Local Currency as Expressed in USD')\n",
    "plt.show()"
   ]
  },
  {
   "cell_type": "code",
   "execution_count": 39,
   "metadata": {
    "collapsed": false
   },
   "outputs": [
    {
     "data": {
      "text/html": [
       "\n",
       "<style>\n",
       ".hello {\n",
       "  color: red;\n",
       "}\n",
       "</style>\n",
       "<h1 class=\"hello\">Hello DOM!</h1>\n",
       "<script>$(\".hello\").text(\"Goodybe, DOM\")</script>\n"
      ],
      "text/plain": [
       "<IPython.core.display.HTML object>"
      ]
     },
     "execution_count": 39,
     "metadata": {},
     "output_type": "execute_result"
    }
   ],
   "source": [
    "HTML('''\n",
    "<style>\n",
    ".hello {\n",
    "  color: red;\n",
    "}\n",
    "</style>\n",
    "<h1 class=\"hello\">Hello DOM!</h1>\n",
    "<script>$(\".hello\").text(\"Goodybe, DOM\")</script>\n",
    "''')"
   ]
  },
  {
   "cell_type": "code",
   "execution_count": 42,
   "metadata": {
    "collapsed": false
   },
   "outputs": [
    {
     "data": {
      "text/html": [
       "<script src=\"lib/d3/d3.min.js\"></script>"
      ],
      "text/plain": [
       "<IPython.core.display.HTML object>"
      ]
     },
     "execution_count": 42,
     "metadata": {},
     "output_type": "execute_result"
    }
   ],
   "source": [
    "#loading in the D3 library\n",
    "HTML('<script src=\"lib/d3/d3.min.js\"></script>')"
   ]
  },
  {
   "cell_type": "code",
   "execution_count": null,
   "metadata": {
    "collapsed": true
   },
   "outputs": [],
   "source": []
  }
 ],
 "metadata": {
  "anaconda-cloud": {},
  "kernelspec": {
   "display_name": "Python [default]",
   "language": "python",
   "name": "python2"
  },
  "language_info": {
   "codemirror_mode": {
    "name": "ipython",
    "version": 2
   },
   "file_extension": ".py",
   "mimetype": "text/x-python",
   "name": "python",
   "nbconvert_exporter": "python",
   "pygments_lexer": "ipython2",
   "version": "2.7.12"
  }
 },
 "nbformat": 4,
 "nbformat_minor": 1
}
