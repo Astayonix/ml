{
 "cells": [
  {
   "cell_type": "code",
   "execution_count": 166,
   "metadata": {
    "collapsed": true
   },
   "outputs": [],
   "source": [
    "#importing the libraries\n",
    "import pandas as pd\n",
    "import matplotlib.pyplot as plt\n",
    "import numpy as np\n",
    "from __future__ import unicode_literals"
   ]
  },
  {
   "cell_type": "code",
   "execution_count": 167,
   "metadata": {
    "collapsed": false
   },
   "outputs": [],
   "source": [
    "#reading in the CSV file\n",
    "gdp_data = pd.read_excel('datasets/gdp_Download-GDPcurrent-USD-countries.xls', skiprows=2)"
   ]
  },
  {
   "cell_type": "code",
   "execution_count": 168,
   "metadata": {
    "collapsed": false
   },
   "outputs": [],
   "source": [
    "#creating a time-series\n",
    "time_series = []\n",
    "for column in gdp_data.columns:\n",
    "    if type(column) == int:\n",
    "        time_series.append(column)"
   ]
  },
  {
   "cell_type": "code",
   "execution_count": 169,
   "metadata": {
    "collapsed": false
   },
   "outputs": [],
   "source": [
    "#creating the country set\n",
    "country_set = set(gdp_data.Country)"
   ]
  },
  {
   "cell_type": "code",
   "execution_count": 170,
   "metadata": {
    "collapsed": true
   },
   "outputs": [],
   "source": [
    "#creating the shortened versions of the indicators\n",
    "meanings = {'Exports of goods and services':'Ex', 'General government final consumption expenditure':'G', 'Gross Domestic Product (GDP)':'GDP', 'Imports of goods and services':'Im', 'Household consumption expenditure (including Non-profit institutions serving households)':'C', 'Gross capital formation':'I'}"
   ]
  },
  {
   "cell_type": "code",
   "execution_count": 171,
   "metadata": {
    "collapsed": true
   },
   "outputs": [],
   "source": [
    "'''converts the long-form of the column name to the shortened version as per the meanings dict'''\n",
    "def convertname(x):\n",
    "    if x in meanings.keys():\n",
    "        return meanings[x]\n",
    "    else:\n",
    "        return x"
   ]
  },
  {
   "cell_type": "code",
   "execution_count": 172,
   "metadata": {
    "collapsed": false,
    "scrolled": true
   },
   "outputs": [],
   "source": [
    "#an annonymous function that converts names in the IndicatorName columun into its shortened version per the meanings dict\n",
    "converted_name = gdp_data.IndicatorName.map(lambda x: convertname(x))"
   ]
  },
  {
   "cell_type": "code",
   "execution_count": 173,
   "metadata": {
    "collapsed": false
   },
   "outputs": [
    {
     "data": {
      "text/plain": [
       "Index([      u'Country', u'IndicatorName',             1970,             1971,\n",
       "                   1972,             1973,             1974,             1975,\n",
       "                   1976,             1977,             1978,             1979,\n",
       "                   1980,             1981,             1982,             1983,\n",
       "                   1984,             1985,             1986,             1987,\n",
       "                   1988,             1989,             1990,             1991,\n",
       "                   1992,             1993,             1994,             1995,\n",
       "                   1996,             1997,             1998,             1999,\n",
       "                   2000,             2001,             2002,             2003,\n",
       "                   2004,             2005,             2006,             2007,\n",
       "                   2008,             2009,             2010,             2011,\n",
       "                   2012,             2013,             2014,        u'Concat'],\n",
       "      dtype='object')"
      ]
     },
     "execution_count": 173,
     "metadata": {},
     "output_type": "execute_result"
    }
   ],
   "source": [
    "#creates a new column to the end of the dataframe that is a concatenation of the country name and the shortened indicator name\n",
    "gdp_data['Concat'] = gdp_data['Country']+ \" \" + converted_name"
   ]
  },
  {
   "cell_type": "code",
   "execution_count": 174,
   "metadata": {
    "collapsed": false
   },
   "outputs": [],
   "source": [
    "#sets the index column of the dataframe to the Concat column for ease of filtering\n",
    "gdp_data.set_index('Concat', inplace=True)"
   ]
  },
  {
   "cell_type": "code",
   "execution_count": 182,
   "metadata": {
    "collapsed": true
   },
   "outputs": [],
   "source": [
    "#fills in all NaN values with 0's\n",
    "gdp_data.fillna(0, inplace=True)"
   ]
  },
  {
   "cell_type": "code",
   "execution_count": 183,
   "metadata": {
    "collapsed": false
   },
   "outputs": [],
   "source": [
    "#converts all float data-types to integers\n",
    "for column in gdp_data.columns:\n",
    "    if gdp_data[column].dtype == float:\n",
    "        gdp_data[column] = gdp_data[column].astype(int)"
   ]
  },
  {
   "cell_type": "code",
   "execution_count": 185,
   "metadata": {
    "collapsed": false
   },
   "outputs": [],
   "source": [
    "#drops all rows that do not do not have abbreviated indicator names from the dataframe\n",
    "abbv_list = ['C','I','G','Ex','Im']"
   ]
  },
  {
   "cell_type": "code",
   "execution_count": null,
   "metadata": {
    "collapsed": true
   },
   "outputs": [],
   "source": []
  }
 ],
 "metadata": {
  "kernelspec": {
   "display_name": "Python [default]",
   "language": "python",
   "name": "python2"
  },
  "language_info": {
   "codemirror_mode": {
    "name": "ipython",
    "version": 2
   },
   "file_extension": ".py",
   "mimetype": "text/x-python",
   "name": "python",
   "nbconvert_exporter": "python",
   "pygments_lexer": "ipython2",
   "version": "2.7.12"
  }
 },
 "nbformat": 4,
 "nbformat_minor": 1
}
