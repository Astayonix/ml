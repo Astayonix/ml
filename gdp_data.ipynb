{
 "cells": [
  {
   "cell_type": "code",
   "execution_count": 1,
   "metadata": {
    "collapsed": false
   },
   "outputs": [],
   "source": [
    "#importing the libraries\n",
    "import pandas as pd\n",
    "import matplotlib.pyplot as plt\n",
    "import numpy as np\n",
    "from __future__ import unicode_literals\n",
    "from IPython.core.display import HTML\n",
    "# import d3_lib"
   ]
  },
  {
   "cell_type": "code",
   "execution_count": 2,
   "metadata": {
    "collapsed": false
   },
   "outputs": [],
   "source": [
    "#reading in the CSV file\n",
    "gdp_data = pd.read_excel('datasets/gdp_Download-GDPcurrent-USD-countries.xls', skiprows=2)"
   ]
  },
  {
   "cell_type": "code",
   "execution_count": 3,
   "metadata": {
    "collapsed": false
   },
   "outputs": [],
   "source": [
    "#creating a time-series\n",
    "time_series = []\n",
    "for column in gdp_data.columns:\n",
    "    if type(column) == int:\n",
    "        time_series.append(column)"
   ]
  },
  {
   "cell_type": "code",
   "execution_count": 4,
   "metadata": {
    "collapsed": false
   },
   "outputs": [],
   "source": [
    "#creating the country set\n",
    "country_set = set(gdp_data.Country)"
   ]
  },
  {
   "cell_type": "code",
   "execution_count": 5,
   "metadata": {
    "collapsed": true
   },
   "outputs": [],
   "source": [
    "#creating the shortened versions of the indicators\n",
    "meanings = {'Exports of goods and services':'Ex', 'General government final consumption expenditure':'G', 'Gross Domestic Product (GDP)':'GDP', 'Imports of goods and services':'Im', 'Household consumption expenditure (including Non-profit institutions serving households)':'C', 'Gross capital formation':'I'}"
   ]
  },
  {
   "cell_type": "code",
   "execution_count": 6,
   "metadata": {
    "collapsed": true
   },
   "outputs": [],
   "source": [
    "'''converts the long-form of the column name to the shortened version as per the meanings dict'''\n",
    "def convertname(x):\n",
    "    if x in meanings.keys():\n",
    "        return meanings[x]\n",
    "    else:\n",
    "        return x"
   ]
  },
  {
   "cell_type": "code",
   "execution_count": 7,
   "metadata": {
    "collapsed": false,
    "scrolled": true
   },
   "outputs": [],
   "source": [
    "#an annonymous function that converts names in the IndicatorName columun into its shortened version per the meanings dict\n",
    "converted_name = gdp_data.IndicatorName.map(lambda x: convertname(x))"
   ]
  },
  {
   "cell_type": "code",
   "execution_count": 8,
   "metadata": {
    "collapsed": false
   },
   "outputs": [],
   "source": [
    "#creates a new column to the end of the dataframe that is a concatenation of the country name and the shortened indicator name\n",
    "gdp_data['Concat'] = gdp_data['Country']+ \" \" + converted_name"
   ]
  },
  {
   "cell_type": "code",
   "execution_count": 9,
   "metadata": {
    "collapsed": false
   },
   "outputs": [],
   "source": [
    "#sets the index column of the dataframe to the Concat column for ease of filtering\n",
    "gdp_data.set_index('Concat', inplace=True)"
   ]
  },
  {
   "cell_type": "code",
   "execution_count": 10,
   "metadata": {
    "collapsed": true
   },
   "outputs": [],
   "source": [
    "#fills in all NaN values with 0's\n",
    "gdp_data.fillna(0, inplace=True)"
   ]
  },
  {
   "cell_type": "code",
   "execution_count": 11,
   "metadata": {
    "collapsed": false
   },
   "outputs": [],
   "source": [
    "#converts all float data-types to integers\n",
    "for column in gdp_data.columns:\n",
    "    if gdp_data[column].dtype == float:\n",
    "        gdp_data[column] = gdp_data[column].astype(int)"
   ]
  },
  {
   "cell_type": "code",
   "execution_count": 12,
   "metadata": {
    "collapsed": true
   },
   "outputs": [],
   "source": [
    "#removes the index name as a header\n",
    "gdp_data.index.name = None"
   ]
  },
  {
   "cell_type": "code",
   "execution_count": 13,
   "metadata": {
    "collapsed": false
   },
   "outputs": [],
   "source": [
    "#drops all rows that do not do not have abbreviated indicator names from the dataframe\n",
    "abbv_list = ['C','I','G','Ex','Im', 'GDP']\n",
    "for indicator in gdp_data.index:\n",
    "    split_indicator = indicator.split()\n",
    "    if split_indicator[1].strip() not in abbv_list:\n",
    "        gdp_data.drop(indicator, inplace = True)"
   ]
  },
  {
   "cell_type": "code",
   "execution_count": 14,
   "metadata": {
    "collapsed": false
   },
   "outputs": [],
   "source": [
    "#removing the Country and IndicatorName columns\n",
    "remove_cols = ['IndicatorName', 'Country']\n",
    "gdp_data.drop(remove_cols, axis=1, inplace=True)"
   ]
  },
  {
   "cell_type": "code",
   "execution_count": 18,
   "metadata": {
    "collapsed": false
   },
   "outputs": [
    {
     "name": "stdout",
     "output_type": "stream",
     "text": [
      "set([u'Canada', u'Sao Tome and Principe', u'Turkmenistan', u'Yugoslavia (Former)', u'Lithuania', u'Cambodia', u'Switzerland', u'Ethiopia', u'Aruba', u'Swaziland', u'Argentina', u'Cameroon', u'Burkina Faso', u'Ghana', u'Saudi Arabia', u'Japan', u'State of Palestine', u'Slovenia', u'Guatemala', u'Bosnia and Herzegovina', u'Kuwait', u'Russian Federation', u'Jordan', u'Dominica', u'Liberia', u'Maldives', u'Jamaica', u'Oman', u'Cabo Verde', u'Albania', u'Gabon', u'Monaco', u'Samoa', u'New Zealand', u'Yemen', u'Andorra', u'Greenland', u\"Lao People's DR\", u'United Arab Emirates', u'Czechoslovakia (Former)', u'India', u'Azerbaijan', u'Lesotho', u'Kenya', u'Tajikistan', u'Turkey', u'Afghanistan', u'Micronesia (FS of)', u'Bangladesh', u'Mauritania', u'Iran (Islamic Republic of)', u'Sudan (Former)', u'Saint Lucia', u'San Marino', u'French Polynesia', u'France', u'Syrian Arab Republic', u'Bermuda', u'Slovakia', u'Somalia', u'Peru', u'Vanuatu', u'Nauru', u'Seychelles', u'Norway', u'Malawi', u'Cook Islands', u'Benin', u'Cuba', u'Montenegro', u'Saint Kitts and Nevis', u'Togo', u'China', u'Armenia', u'Republic of Korea', u'Dominican Republic', u'Bolivia (Plurinational State of)', u'Ukraine', u'Bahrain', u'Tonga', u'Finland', u'Libya', u'Yemen Arab Republic (Former)', u'Cayman Islands', u'Central African Republic', u'Mauritius', u'Liechtenstein', u'Australia', u'British Virgin Islands', u'Mali', u'Sweden', u'D.P.R. of Korea', u'Bulgaria', u'Yemen Democratic (Former)', u'United States', u'Romania', u'Angola', u'Chad', u'South Africa', u'St. Vincent and the Grenadines', u'Cyprus', u'Brunei Darussalam', u'Qatar', u'Malaysia', u'Austria', u'Mozambique', u'Uganda', u'Hungary', u'Niger', u'Brazil', u'Guinea', u'Panama', u'Republic of Moldova', u'Costa Rica', u'Luxembourg', u'Bahamas', u'Ireland', u'Pakistan', u'Palau', u'Nigeria', u'Ecuador', u'Czech Republic', u'Viet Nam', u'Belarus', u'Algeria', u'El Salvador', u'Tuvalu', u'Solomon Islands', u'Marshall Islands', u'Chile', u'Puerto Rico', u'Belgium', u'Kiribati', u'Former Netherlands Antilles', u'Belize', u'Sierra Leone', u'Georgia', u'China, Hong Kong SAR', u'Gambia', u'Philippines', u'D.R. of the Congo', u'China, Macao SAR', u'Morocco', u'Uruguay', u'Croatia', u'Mongolia', u'Guinea-Bissau', u'Thailand', u'Namibia', u'Grenada', u'Haiti', u'TFYR of Macedonia', u'Venezuela (Bolivarian Republic of)', u'Iraq', u'Portugal', u'Estonia', u'Kosovo', u'USSR (Former)', u'Mexico', u'Lebanon', u'Uzbekistan', u'Tunisia', u'Djibouti', u'Rwanda', u'Antigua and Barbuda', u'Spain', u'Colombia', u'Burundi', u'Fiji', u'Barbados', u'Madagascar', u'Italy', u'Bhutan', u'Sudan', u'Nepal', u'Malta', u'Netherlands', u'Suriname', u'Ethiopia (Former)', u'Anguilla', u'Turks and Caicos Islands', u'U.R. of Tanzania: Mainland', u'United Kingdom', u'Israel', u'Indonesia', u'Iceland', u'Zambia', u'Senegal', u'Papua New Guinea', u'Trinidad and Tobago', u'Zimbabwe', u'Germany', u'Denmark', u'Kazakhstan', u'Poland', u'Eritrea', u'Kyrgyzstan', u'Montserrat', u'New Caledonia', u'Sri Lanka', u'Latvia', u'South Sudan', u'Guyana', u\"C\\xf4te d'Ivoire\", u'Honduras', u'Myanmar', u'Equatorial Guinea', u'Egypt', u'Nicaragua', u'Singapore', u'Serbia', u'Botswana', u'Timor-Leste', u'Congo', u'Sint Maarten (Dutch part)', u'Greece', u'Paraguay', u'Cura\\xe7ao', u'Comoros', u'Zanzibar'])\n",
      "\n",
      "\n",
      "Please type in the name of the country or countries you want to investigate (separate with \", \"): Congo, Greece, Paraguay\n",
      "[u'Congo', u'Greece', u'Paraguay']\n",
      "\n",
      "\n",
      "For Consumer/Personal consumption, type C\n",
      "For Investment/Business consumption, type I\n",
      "For Government consumption, type G\n",
      "For Total Exports, type Ex\n",
      "For Total Imports, type Im\n",
      "For Aggregate consumption, type GDP\n",
      "\n",
      "Please type in the abbrieviate name of the GDP Indicator.(separate with \", \"): C, G, GDP\n",
      "[u'C', u'G', u'GDP']\n",
      "\n",
      "\n"
     ]
    }
   ],
   "source": [
    "#declaring chart variables\n",
    "\n",
    "#reminder of which countries are available\n",
    "print country_set\n",
    "print '\\n'\n",
    "\n",
    "#user selects countries to investigate\n",
    "user_country_select = raw_input('Please type in the name of the country or countries you want to investigate (separate with \", \"): ')\n",
    "user_country_list = list(user_country_select.split(', '))\n",
    "print user_country_list \n",
    "print '\\n'\n",
    "\n",
    "print 'For Consumer/Personal consumption, type C' + '\\n',\\\n",
    "'For Investment/Business consumption, type I' + '\\n',\\\n",
    "'For Government consumption, type G' + '\\n',\\\n",
    "'For Total Exports, type Ex' + '\\n',\\\n",
    "'For Total Imports, type Im' + '\\n',\\\n",
    "'For Aggregate consumption, type GDP'+ '\\n'\n",
    "\n",
    "user_indicator_select = raw_input('Please type in the abbrieviate name of the GDP Indicator.(separate with \", \"): ')\n",
    "user_indicator_list = list(user_indicator_select.split(', '))\n",
    "print user_indicator_list\n",
    "print '\\n'"
   ]
  },
  {
   "cell_type": "code",
   "execution_count": 79,
   "metadata": {
    "collapsed": false
   },
   "outputs": [
    {
     "name": "stdout",
     "output_type": "stream",
     "text": [
      "[[u'Congo C', u'Greece C', u'Paraguay C'], [u'Congo G', u'Greece G', u'Paraguay G'], [u'Congo GDP', u'Greece GDP', u'Paraguay GDP']]\n"
     ]
    }
   ],
   "source": [
    "#grouping the indicators and countries\n",
    "gdp_request_grouping = []\n",
    "\n",
    "for indicator in user_indicator_list:\n",
    "    inner_grouping = []\n",
    "    for country in user_country_list:\n",
    "        indicator_country = country +\" \"+ indicator\n",
    "        if indicator == 'C':\n",
    "            inner_grouping.append(indicator_country)\n",
    "        elif indicator == 'I':\n",
    "            inner_grouping.append(indicator_country)\n",
    "        elif indicator == 'G':\n",
    "            inner_grouping.append(indicator_country)\n",
    "        elif indicator == 'Ex':\n",
    "            inner_grouping.append(indicator_country)\n",
    "        elif indicator == 'Im':\n",
    "            inner_grouping.append(indicator_country)\n",
    "        elif indicator == 'GDP':\n",
    "            inner_grouping.append(indicator_country)\n",
    "        else:\n",
    "            print 'oops'\n",
    "    gdp_request_grouping.append(inner_grouping)\n",
    "\n",
    "print gdp_request_grouping"
   ]
  },
  {
   "cell_type": "code",
   "execution_count": null,
   "metadata": {
    "collapsed": false
   },
   "outputs": [],
   "source": []
  },
  {
   "cell_type": "code",
   "execution_count": null,
   "metadata": {
    "collapsed": true
   },
   "outputs": [],
   "source": []
  }
 ],
 "metadata": {
  "anaconda-cloud": {},
  "kernelspec": {
   "display_name": "Python [default]",
   "language": "python",
   "name": "python2"
  },
  "language_info": {
   "codemirror_mode": {
    "name": "ipython",
    "version": 2
   },
   "file_extension": ".py",
   "mimetype": "text/x-python",
   "name": "python",
   "nbconvert_exporter": "python",
   "pygments_lexer": "ipython2",
   "version": "2.7.12"
  }
 },
 "nbformat": 4,
 "nbformat_minor": 1
}
