{
 "cells": [
  {
   "cell_type": "markdown",
   "metadata": {},
   "source": [
    "<h1> Descriptive Stats </h1>"
   ]
  },
  {
   "cell_type": "markdown",
   "metadata": {},
   "source": [
    "<h2> Arithmetic Mean </h2>"
   ]
  },
  {
   "cell_type": "code",
   "execution_count": 53,
   "metadata": {
    "collapsed": false
   },
   "outputs": [],
   "source": [
    "#Let’s consider the following set of Google stock prices during September 2016:\n",
    "goog_close = [\n",
    "              777.29, 775.01, 781.56, 783.01, 774.21, 786.90, 787.21,\n",
    "              776.22, 771.41, 765.70, 768.88, 771.76, 762.49, 759.69,\n",
    "              769.02, 759.66, 775.32, 780.35, 780.08, 771.46, 768.78\n",
    "             ]"
   ]
  },
  {
   "cell_type": "code",
   "execution_count": 54,
   "metadata": {
    "collapsed": false
   },
   "outputs": [
    {
     "name": "stdout",
     "output_type": "stream",
     "text": [
      "773.61952381\n"
     ]
    }
   ],
   "source": [
    "#We calculate the mean to find the value around which our data clusters.\n",
    "#The average (arithmetic mean) can be manually computed as follows:\n",
    "\n",
    "goog_avg = sum(goog_close)/len(goog_close)\n",
    "print goog_avg"
   ]
  },
  {
   "cell_type": "markdown",
   "metadata": {},
   "source": [
    "<h2> Median </h2>"
   ]
  },
  {
   "cell_type": "code",
   "execution_count": 56,
   "metadata": {
    "collapsed": false
   },
   "outputs": [
    {
     "name": "stdout",
     "output_type": "stream",
     "text": [
      "774.21\n"
     ]
    }
   ],
   "source": [
    "#The median is the literal middle of your data if your data was sorted. It’s also known as the 50th percentile.\n",
    "#The median can be manually computed as follows.\n",
    "\n",
    "sorted_prices = sorted(goog_close)\n",
    "if len(sorted_prices)%2 == 0:\n",
    "    lower_val = (len(sorted_prices)/2)-1\n",
    "    upper_val = len(sorted_prices)/2\n",
    "    goog_med = (sorted_prices[lower_val] + sorted_prices[upper_val])/2\n",
    "    print goog_med\n",
    "else:\n",
    "    goog_med = sorted_prices[int(len(sorted_prices)/2)]\n",
    "    print goog_med"
   ]
  },
  {
   "cell_type": "markdown",
   "metadata": {},
   "source": [
    "<h2> Median </h2>"
   ]
  },
  {
   "cell_type": "code",
   "execution_count": 61,
   "metadata": {
    "collapsed": false
   },
   "outputs": [
    {
     "name": "stdout",
     "output_type": "stream",
     "text": [
      "(771.46, 1)\n"
     ]
    }
   ],
   "source": [
    "#The mode is defined as the most common value in a data set.\n",
    "#The mode can be manually computed, but it's better to use the collections library that comes standard with Python.\n",
    "#If most_common method returns a key:value pair of value: 1, that means there is no mode (no repeated values)\n",
    "\n",
    "from collections import Counter as count\n",
    "\n",
    "counts = count(goog_close)\n",
    "goog_mode = counts.most_common()[0] #the .most_common() method returns a list of values in descending order, so [0] is the most common\n",
    "print goog_mode\n",
    "#in this instance, there is no mode."
   ]
  },
  {
   "cell_type": "markdown",
   "metadata": {},
   "source": [
    "<H2> Standard Deviation </h2>"
   ]
  },
  {
   "cell_type": "code",
   "execution_count": 70,
   "metadata": {
    "collapsed": false,
    "scrolled": true
   },
   "outputs": [
    {
     "name": "stdout",
     "output_type": "stream",
     "text": [
      "7.80804864116 0.010092879511\n"
     ]
    }
   ],
   "source": [
    "#The standard deviation tells you, on average, how far the data is spread from its mean.\n",
    "#The mode can be manually computed as follows:\n",
    "#Note that you can import the sqrt from the math library, but in the absense of that use **0.5\n",
    "#Total deviation is the spread of is the spread of data about the mean (in both directions).\n",
    "\n",
    "goog_tot_dev = ((sum([(val - goog_avg)**2 for val in goog_close])) / (len(goog_close)))**0.5\n",
    "goog_std_dev = goog_tot_dev / goog_avg #Shows the std deviation in relation to the mean\n",
    "print goog_tot_dev, goog_std_dev"
   ]
  },
  {
   "cell_type": "markdown",
   "metadata": {},
   "source": [
    "<h2> Quantiles (Percentiles) </h2>"
   ]
  },
  {
   "cell_type": "code",
   "execution_count": 71,
   "metadata": {
    "collapsed": false
   },
   "outputs": [
    {
     "name": "stdout",
     "output_type": "stream",
     "text": [
      "768.88 774.21 780.08\n"
     ]
    }
   ],
   "source": [
    "#A Quantile (or Percentile) looks at the sorted data and asks “what is the value when I’m X% of the way through this data?” \n",
    "#The median is an example of a quantile, representing the value 50% of the way through the data. \n",
    "#Commonly, people are interested in the values at 25, 50, and 75%.\n",
    "#Quantiles can be manually computed as follows:\n",
    "\n",
    "goog_quantile_25 = sorted_prices[int(len(sorted_prices)*.25)] #25th quantile\n",
    "goog_quantile_50 = sorted_prices[int(len(sorted_prices)*.5)] #50th quantile\n",
    "goog_quantile_75 = sorted_prices[int(len(sorted_prices)*.75)] #75th quantile\n",
    "print goog_quantile_25, goog_quantile_50, goog_quantile_75"
   ]
  }
 ],
 "metadata": {
  "anaconda-cloud": {},
  "kernelspec": {
   "display_name": "Python [default]",
   "language": "python",
   "name": "python2"
  },
  "language_info": {
   "codemirror_mode": {
    "name": "ipython",
    "version": 2
   },
   "file_extension": ".py",
   "mimetype": "text/x-python",
   "name": "python",
   "nbconvert_exporter": "python",
   "pygments_lexer": "ipython2",
   "version": "2.7.12"
  }
 },
 "nbformat": 4,
 "nbformat_minor": 1
}
